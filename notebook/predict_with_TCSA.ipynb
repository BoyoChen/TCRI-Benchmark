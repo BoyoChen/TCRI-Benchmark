{
 "cells": [
  {
   "cell_type": "code",
   "execution_count": 1,
   "id": "10dbe0dd",
   "metadata": {},
   "outputs": [
    {
     "name": "stdout",
     "output_type": "stream",
     "text": [
      "/wk171/boyochen/TCRI-Benchmark\n"
     ]
    }
   ],
   "source": [
    "cd /wk171/boyochen/TCRI-Benchmark/"
   ]
  },
  {
   "cell_type": "code",
   "execution_count": 2,
   "id": "8d47b932-e429-438d-bcbc-b4d1220fdb68",
   "metadata": {},
   "outputs": [
    {
     "name": "stdout",
     "output_type": "stream",
     "text": [
      "env: CUDA_VISIBLE_DEVICES=-1\n"
     ]
    }
   ],
   "source": [
    "%env CUDA_VISIBLE_DEVICES=-1"
   ]
  },
  {
   "cell_type": "code",
   "execution_count": 3,
   "id": "fbe48565-aa6d-45ac-afbe-d2057f330d43",
   "metadata": {},
   "outputs": [],
   "source": [
    "# fet experiment settings from yaml file\n",
    "from modules.experiment_helper import parse_experiment_settings\n",
    "\n",
    "experiment_path = 'experiments/baseline.yml'\n",
    "experiment_settings = parse_experiment_settings(experiment_path)"
   ]
  },
  {
   "cell_type": "code",
   "execution_count": 4,
   "id": "e6b3b911",
   "metadata": {},
   "outputs": [],
   "source": [
    "# load trained model\n",
    "from modules.model_constructor import create_model_by_experiment_path\n",
    "\n",
    "model = create_model_by_experiment_path(experiment_path, version='best-prauc')"
   ]
  },
  {
   "cell_type": "code",
   "execution_count": 5,
   "id": "39ff473b-1bac-47f1-ac11-805443058667",
   "metadata": {},
   "outputs": [
    {
     "name": "stdout",
     "output_type": "stream",
     "text": [
      "WARNING:tensorflow:From /home/boyochen/.local/share/virtualenvs/TCRI-Benchmark-XLaQGxIk/lib/python3.9/site-packages/tensorflow/python/ops/array_ops.py:5043: calling gather (from tensorflow.python.ops.array_ops) with validate_indices is deprecated and will be removed in a future version.\n",
      "Instructions for updating:\n",
      "The `validate_indices` argument has no effect. Indices are always validated on CPU and never validated on GPU.\n"
     ]
    }
   ],
   "source": [
    "# load dataset\n",
    "from modules.data_handler import get_tensorflow_datasets\n",
    "\n",
    "datasets = get_tensorflow_datasets(**experiment_settings['data'])"
   ]
  },
  {
   "cell_type": "code",
   "execution_count": 6,
   "id": "c807afa1-ff68-4d8b-ab23-c31a7f41633f",
   "metadata": {},
   "outputs": [],
   "source": [
    "import tensorflow as tf\n",
    "from modules.data_handler import ascii_array_to_string\n",
    "import pandas as pd\n",
    "\n",
    "df = pd.DataFrame(columns=['is_RI', 'pred_RI_prob', 'starting_frame'])\n",
    "for image_sequences, RI_labels, frame_ID_ascii in datasets['valid']:\n",
    "    starting_frame = list(map(ascii_array_to_string, frame_ID_ascii.numpy()))\n",
    "    pred = model(image_sequences).numpy()\n",
    "    is_RI = RI_labels.numpy()\n",
    "    batch_size = pred.shape[0]\n",
    "    for i in range(batch_size):\n",
    "        df.loc[df.shape[0]] = [is_RI[i, 1], pred[i, 1], starting_frame[i]]"
   ]
  },
  {
   "cell_type": "code",
   "execution_count": 15,
   "id": "74c4cb42-aa69-4281-9b16-1cebb6f56cab",
   "metadata": {},
   "outputs": [],
   "source": [
    "df = df.sort_values(['starting_frame'])\n",
    "df['pred_RI_prob'] = df['pred_RI_prob'].map('{:,.4f}'.format)"
   ]
  },
  {
   "cell_type": "code",
   "execution_count": 17,
   "id": "c6458c19-a3ff-40e5-9342-334ff055543c",
   "metadata": {},
   "outputs": [
    {
     "data": {
      "text/html": [
       "<div>\n",
       "<style scoped>\n",
       "    .dataframe tbody tr th:only-of-type {\n",
       "        vertical-align: middle;\n",
       "    }\n",
       "\n",
       "    .dataframe tbody tr th {\n",
       "        vertical-align: top;\n",
       "    }\n",
       "\n",
       "    .dataframe thead th {\n",
       "        text-align: right;\n",
       "    }\n",
       "</style>\n",
       "<table border=\"1\" class=\"dataframe\">\n",
       "  <thead>\n",
       "    <tr style=\"text-align: right;\">\n",
       "      <th></th>\n",
       "      <th>is_RI</th>\n",
       "      <th>pred_RI_prob</th>\n",
       "      <th>starting_frame</th>\n",
       "    </tr>\n",
       "  </thead>\n",
       "  <tbody>\n",
       "    <tr>\n",
       "      <th>8032</th>\n",
       "      <td>0.0</td>\n",
       "      <td>0.9518</td>\n",
       "      <td>201501C_2015070715</td>\n",
       "    </tr>\n",
       "    <tr>\n",
       "      <th>7323</th>\n",
       "      <td>0.0</td>\n",
       "      <td>0.9338</td>\n",
       "      <td>201501C_2015070718</td>\n",
       "    </tr>\n",
       "    <tr>\n",
       "      <th>6449</th>\n",
       "      <td>0.0</td>\n",
       "      <td>0.7937</td>\n",
       "      <td>201501C_2015070721</td>\n",
       "    </tr>\n",
       "    <tr>\n",
       "      <th>6490</th>\n",
       "      <td>0.0</td>\n",
       "      <td>0.8314</td>\n",
       "      <td>201501C_2015070800</td>\n",
       "    </tr>\n",
       "    <tr>\n",
       "      <th>7390</th>\n",
       "      <td>0.0</td>\n",
       "      <td>0.5297</td>\n",
       "      <td>201501C_2015070803</td>\n",
       "    </tr>\n",
       "    <tr>\n",
       "      <th>7263</th>\n",
       "      <td>0.0</td>\n",
       "      <td>0.5106</td>\n",
       "      <td>201501C_2015070806</td>\n",
       "    </tr>\n",
       "    <tr>\n",
       "      <th>7187</th>\n",
       "      <td>0.0</td>\n",
       "      <td>0.6780</td>\n",
       "      <td>201501C_2015070809</td>\n",
       "    </tr>\n",
       "    <tr>\n",
       "      <th>6833</th>\n",
       "      <td>0.0</td>\n",
       "      <td>0.5611</td>\n",
       "      <td>201501C_2015070812</td>\n",
       "    </tr>\n",
       "    <tr>\n",
       "      <th>6607</th>\n",
       "      <td>0.0</td>\n",
       "      <td>0.4445</td>\n",
       "      <td>201501C_2015070815</td>\n",
       "    </tr>\n",
       "    <tr>\n",
       "      <th>7010</th>\n",
       "      <td>0.0</td>\n",
       "      <td>0.1245</td>\n",
       "      <td>201501C_2015070818</td>\n",
       "    </tr>\n",
       "    <tr>\n",
       "      <th>7172</th>\n",
       "      <td>0.0</td>\n",
       "      <td>0.0009</td>\n",
       "      <td>201501C_2015070821</td>\n",
       "    </tr>\n",
       "    <tr>\n",
       "      <th>7154</th>\n",
       "      <td>0.0</td>\n",
       "      <td>0.0000</td>\n",
       "      <td>201501C_2015070900</td>\n",
       "    </tr>\n",
       "    <tr>\n",
       "      <th>7016</th>\n",
       "      <td>0.0</td>\n",
       "      <td>0.0000</td>\n",
       "      <td>201501C_2015070903</td>\n",
       "    </tr>\n",
       "    <tr>\n",
       "      <th>7761</th>\n",
       "      <td>0.0</td>\n",
       "      <td>0.0000</td>\n",
       "      <td>201501C_2015070906</td>\n",
       "    </tr>\n",
       "    <tr>\n",
       "      <th>6880</th>\n",
       "      <td>0.0</td>\n",
       "      <td>0.0000</td>\n",
       "      <td>201501C_2015070909</td>\n",
       "    </tr>\n",
       "    <tr>\n",
       "      <th>6690</th>\n",
       "      <td>0.0</td>\n",
       "      <td>0.0000</td>\n",
       "      <td>201501C_2015070912</td>\n",
       "    </tr>\n",
       "    <tr>\n",
       "      <th>6562</th>\n",
       "      <td>0.0</td>\n",
       "      <td>0.0001</td>\n",
       "      <td>201501C_2015070915</td>\n",
       "    </tr>\n",
       "    <tr>\n",
       "      <th>6582</th>\n",
       "      <td>0.0</td>\n",
       "      <td>0.0000</td>\n",
       "      <td>201501C_2015070918</td>\n",
       "    </tr>\n",
       "    <tr>\n",
       "      <th>7109</th>\n",
       "      <td>0.0</td>\n",
       "      <td>0.0001</td>\n",
       "      <td>201501C_2015070921</td>\n",
       "    </tr>\n",
       "    <tr>\n",
       "      <th>6836</th>\n",
       "      <td>0.0</td>\n",
       "      <td>0.0000</td>\n",
       "      <td>201501C_2015071000</td>\n",
       "    </tr>\n",
       "  </tbody>\n",
       "</table>\n",
       "</div>"
      ],
      "text/plain": [
       "      is_RI pred_RI_prob      starting_frame\n",
       "8032    0.0       0.9518  201501C_2015070715\n",
       "7323    0.0       0.9338  201501C_2015070718\n",
       "6449    0.0       0.7937  201501C_2015070721\n",
       "6490    0.0       0.8314  201501C_2015070800\n",
       "7390    0.0       0.5297  201501C_2015070803\n",
       "7263    0.0       0.5106  201501C_2015070806\n",
       "7187    0.0       0.6780  201501C_2015070809\n",
       "6833    0.0       0.5611  201501C_2015070812\n",
       "6607    0.0       0.4445  201501C_2015070815\n",
       "7010    0.0       0.1245  201501C_2015070818\n",
       "7172    0.0       0.0009  201501C_2015070821\n",
       "7154    0.0       0.0000  201501C_2015070900\n",
       "7016    0.0       0.0000  201501C_2015070903\n",
       "7761    0.0       0.0000  201501C_2015070906\n",
       "6880    0.0       0.0000  201501C_2015070909\n",
       "6690    0.0       0.0000  201501C_2015070912\n",
       "6562    0.0       0.0001  201501C_2015070915\n",
       "6582    0.0       0.0000  201501C_2015070918\n",
       "7109    0.0       0.0001  201501C_2015070921\n",
       "6836    0.0       0.0000  201501C_2015071000"
      ]
     },
     "execution_count": 17,
     "metadata": {},
     "output_type": "execute_result"
    }
   ],
   "source": [
    "df.head(20)"
   ]
  }
 ],
 "metadata": {
  "kernelspec": {
   "display_name": "Python 3",
   "language": "python",
   "name": "python3"
  },
  "language_info": {
   "codemirror_mode": {
    "name": "ipython",
    "version": 3
   },
   "file_extension": ".py",
   "mimetype": "text/x-python",
   "name": "python",
   "nbconvert_exporter": "python",
   "pygments_lexer": "ipython3",
   "version": "3.9.1"
  }
 },
 "nbformat": 4,
 "nbformat_minor": 5
}
